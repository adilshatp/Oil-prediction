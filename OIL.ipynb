{
 "cells": [
  {
   "cell_type": "code",
   "execution_count": 1,
   "id": "e758b929",
   "metadata": {},
   "outputs": [
    {
     "name": "stderr",
     "output_type": "stream",
     "text": [
      "C:\\Users\\hp\\anaconda3\\lib\\site-packages\\numpy\\_distributor_init.py:30: UserWarning: loaded more than 1 DLL from .libs:\n",
      "C:\\Users\\hp\\anaconda3\\lib\\site-packages\\numpy\\.libs\\libopenblas.PYQHXLVVQ7VESDPUVUADXEVJOBGHJPAY.gfortran-win_amd64.dll\n",
      "C:\\Users\\hp\\anaconda3\\lib\\site-packages\\numpy\\.libs\\libopenblas.WCDJNK7YVMPZQ2ME2ZZHJJRJ3JIKNDB7.gfortran-win_amd64.dll\n",
      "  warnings.warn(\"loaded more than 1 DLL from .libs:\"\n"
     ]
    }
   ],
   "source": [
    "import pandas as pd\n",
    "import numpy as np\n",
    "import datetime\n",
    "import calendar\n",
    "import matplotlib.pyplot as plt"
   ]
  },
  {
   "cell_type": "code",
   "execution_count": 2,
   "id": "b4020085",
   "metadata": {},
   "outputs": [],
   "source": [
    "import warnings\n",
    "warnings.filterwarnings(\"ignore\")"
   ]
  },
  {
   "cell_type": "code",
   "execution_count": 3,
   "id": "47dff8df",
   "metadata": {},
   "outputs": [
    {
     "data": {
      "text/html": [
       "<div>\n",
       "<style scoped>\n",
       "    .dataframe tbody tr th:only-of-type {\n",
       "        vertical-align: middle;\n",
       "    }\n",
       "\n",
       "    .dataframe tbody tr th {\n",
       "        vertical-align: top;\n",
       "    }\n",
       "\n",
       "    .dataframe thead th {\n",
       "        text-align: right;\n",
       "    }\n",
       "</style>\n",
       "<table border=\"1\" class=\"dataframe\">\n",
       "  <thead>\n",
       "    <tr style=\"text-align: right;\">\n",
       "      <th></th>\n",
       "      <th>Date</th>\n",
       "      <th>Price</th>\n",
       "    </tr>\n",
       "  </thead>\n",
       "  <tbody>\n",
       "    <tr>\n",
       "      <th>0</th>\n",
       "      <td>20-May-87</td>\n",
       "      <td>18.63</td>\n",
       "    </tr>\n",
       "    <tr>\n",
       "      <th>1</th>\n",
       "      <td>21-May-87</td>\n",
       "      <td>18.45</td>\n",
       "    </tr>\n",
       "    <tr>\n",
       "      <th>2</th>\n",
       "      <td>22-May-87</td>\n",
       "      <td>18.55</td>\n",
       "    </tr>\n",
       "    <tr>\n",
       "      <th>3</th>\n",
       "      <td>25-May-87</td>\n",
       "      <td>18.60</td>\n",
       "    </tr>\n",
       "    <tr>\n",
       "      <th>4</th>\n",
       "      <td>26-May-87</td>\n",
       "      <td>18.63</td>\n",
       "    </tr>\n",
       "    <tr>\n",
       "      <th>...</th>\n",
       "      <td>...</td>\n",
       "      <td>...</td>\n",
       "    </tr>\n",
       "    <tr>\n",
       "      <th>8549</th>\n",
       "      <td>Jan 19, 2021</td>\n",
       "      <td>55.38</td>\n",
       "    </tr>\n",
       "    <tr>\n",
       "      <th>8550</th>\n",
       "      <td>Jan 20, 2021</td>\n",
       "      <td>55.66</td>\n",
       "    </tr>\n",
       "    <tr>\n",
       "      <th>8551</th>\n",
       "      <td>Jan 21, 2021</td>\n",
       "      <td>55.68</td>\n",
       "    </tr>\n",
       "    <tr>\n",
       "      <th>8552</th>\n",
       "      <td>Jan 22, 2021</td>\n",
       "      <td>55.22</td>\n",
       "    </tr>\n",
       "    <tr>\n",
       "      <th>8553</th>\n",
       "      <td>Jan 25, 2021</td>\n",
       "      <td>55.44</td>\n",
       "    </tr>\n",
       "  </tbody>\n",
       "</table>\n",
       "<p>8554 rows × 2 columns</p>\n",
       "</div>"
      ],
      "text/plain": [
       "              Date  Price\n",
       "0        20-May-87  18.63\n",
       "1        21-May-87  18.45\n",
       "2        22-May-87  18.55\n",
       "3        25-May-87  18.60\n",
       "4        26-May-87  18.63\n",
       "...            ...    ...\n",
       "8549  Jan 19, 2021  55.38\n",
       "8550  Jan 20, 2021  55.66\n",
       "8551  Jan 21, 2021  55.68\n",
       "8552  Jan 22, 2021  55.22\n",
       "8553  Jan 25, 2021  55.44\n",
       "\n",
       "[8554 rows x 2 columns]"
      ]
     },
     "execution_count": 3,
     "metadata": {},
     "output_type": "execute_result"
    }
   ],
   "source": [
    "df = pd.read_csv(r\"BrentOilPrices (1).csv\")\n",
    "df"
   ]
  },
  {
   "cell_type": "markdown",
   "id": "b08fa142",
   "metadata": {},
   "source": [
    "## Data Preprocessing"
   ]
  },
  {
   "cell_type": "code",
   "execution_count": 4,
   "id": "a66ffd57",
   "metadata": {},
   "outputs": [
    {
     "data": {
      "text/plain": [
       "Date     0\n",
       "Price    0\n",
       "dtype: int64"
      ]
     },
     "execution_count": 4,
     "metadata": {},
     "output_type": "execute_result"
    }
   ],
   "source": [
    "df.isnull().sum()"
   ]
  },
  {
   "cell_type": "code",
   "execution_count": 5,
   "id": "5b08d4b4",
   "metadata": {},
   "outputs": [
    {
     "data": {
      "text/plain": [
       "pandas.core.series.Series"
      ]
     },
     "execution_count": 5,
     "metadata": {},
     "output_type": "execute_result"
    }
   ],
   "source": [
    "type(df[\"Date\"])"
   ]
  },
  {
   "cell_type": "code",
   "execution_count": 6,
   "id": "be1a6531",
   "metadata": {},
   "outputs": [
    {
     "data": {
      "text/plain": [
       "Date      object\n",
       "Price    float64\n",
       "dtype: object"
      ]
     },
     "execution_count": 6,
     "metadata": {},
     "output_type": "execute_result"
    }
   ],
   "source": [
    "df.dtypes"
   ]
  },
  {
   "cell_type": "markdown",
   "id": "6a90db29",
   "metadata": {},
   "source": [
    "## Changing the Data Type of the Date column into Date time"
   ]
  },
  {
   "cell_type": "code",
   "execution_count": 7,
   "id": "9ada7bd2",
   "metadata": {},
   "outputs": [],
   "source": [
    "df[\"Date\"] = pd.to_datetime(df[\"Date\"])"
   ]
  },
  {
   "cell_type": "code",
   "execution_count": 8,
   "id": "d56b6e76",
   "metadata": {},
   "outputs": [
    {
     "data": {
      "text/plain": [
       "Date     datetime64[ns]\n",
       "Price           float64\n",
       "dtype: object"
      ]
     },
     "execution_count": 8,
     "metadata": {},
     "output_type": "execute_result"
    }
   ],
   "source": [
    "df.dtypes"
   ]
  },
  {
   "cell_type": "code",
   "execution_count": 9,
   "id": "070122a3",
   "metadata": {},
   "outputs": [
    {
     "data": {
      "text/html": [
       "<div>\n",
       "<style scoped>\n",
       "    .dataframe tbody tr th:only-of-type {\n",
       "        vertical-align: middle;\n",
       "    }\n",
       "\n",
       "    .dataframe tbody tr th {\n",
       "        vertical-align: top;\n",
       "    }\n",
       "\n",
       "    .dataframe thead th {\n",
       "        text-align: right;\n",
       "    }\n",
       "</style>\n",
       "<table border=\"1\" class=\"dataframe\">\n",
       "  <thead>\n",
       "    <tr style=\"text-align: right;\">\n",
       "      <th></th>\n",
       "      <th>Date</th>\n",
       "      <th>Price</th>\n",
       "    </tr>\n",
       "  </thead>\n",
       "  <tbody>\n",
       "    <tr>\n",
       "      <th>0</th>\n",
       "      <td>1987-05-20</td>\n",
       "      <td>18.63</td>\n",
       "    </tr>\n",
       "    <tr>\n",
       "      <th>1</th>\n",
       "      <td>1987-05-21</td>\n",
       "      <td>18.45</td>\n",
       "    </tr>\n",
       "    <tr>\n",
       "      <th>2</th>\n",
       "      <td>1987-05-22</td>\n",
       "      <td>18.55</td>\n",
       "    </tr>\n",
       "    <tr>\n",
       "      <th>3</th>\n",
       "      <td>1987-05-25</td>\n",
       "      <td>18.60</td>\n",
       "    </tr>\n",
       "    <tr>\n",
       "      <th>4</th>\n",
       "      <td>1987-05-26</td>\n",
       "      <td>18.63</td>\n",
       "    </tr>\n",
       "    <tr>\n",
       "      <th>...</th>\n",
       "      <td>...</td>\n",
       "      <td>...</td>\n",
       "    </tr>\n",
       "    <tr>\n",
       "      <th>8549</th>\n",
       "      <td>2021-01-19</td>\n",
       "      <td>55.38</td>\n",
       "    </tr>\n",
       "    <tr>\n",
       "      <th>8550</th>\n",
       "      <td>2021-01-20</td>\n",
       "      <td>55.66</td>\n",
       "    </tr>\n",
       "    <tr>\n",
       "      <th>8551</th>\n",
       "      <td>2021-01-21</td>\n",
       "      <td>55.68</td>\n",
       "    </tr>\n",
       "    <tr>\n",
       "      <th>8552</th>\n",
       "      <td>2021-01-22</td>\n",
       "      <td>55.22</td>\n",
       "    </tr>\n",
       "    <tr>\n",
       "      <th>8553</th>\n",
       "      <td>2021-01-25</td>\n",
       "      <td>55.44</td>\n",
       "    </tr>\n",
       "  </tbody>\n",
       "</table>\n",
       "<p>8554 rows × 2 columns</p>\n",
       "</div>"
      ],
      "text/plain": [
       "           Date  Price\n",
       "0    1987-05-20  18.63\n",
       "1    1987-05-21  18.45\n",
       "2    1987-05-22  18.55\n",
       "3    1987-05-25  18.60\n",
       "4    1987-05-26  18.63\n",
       "...         ...    ...\n",
       "8549 2021-01-19  55.38\n",
       "8550 2021-01-20  55.66\n",
       "8551 2021-01-21  55.68\n",
       "8552 2021-01-22  55.22\n",
       "8553 2021-01-25  55.44\n",
       "\n",
       "[8554 rows x 2 columns]"
      ]
     },
     "execution_count": 9,
     "metadata": {},
     "output_type": "execute_result"
    }
   ],
   "source": [
    "df"
   ]
  },
  {
   "cell_type": "markdown",
   "id": "af9b253e",
   "metadata": {},
   "source": [
    "## Changing the index column to Date"
   ]
  },
  {
   "cell_type": "code",
   "execution_count": 10,
   "id": "20663334",
   "metadata": {},
   "outputs": [
    {
     "data": {
      "text/html": [
       "<div>\n",
       "<style scoped>\n",
       "    .dataframe tbody tr th:only-of-type {\n",
       "        vertical-align: middle;\n",
       "    }\n",
       "\n",
       "    .dataframe tbody tr th {\n",
       "        vertical-align: top;\n",
       "    }\n",
       "\n",
       "    .dataframe thead th {\n",
       "        text-align: right;\n",
       "    }\n",
       "</style>\n",
       "<table border=\"1\" class=\"dataframe\">\n",
       "  <thead>\n",
       "    <tr style=\"text-align: right;\">\n",
       "      <th></th>\n",
       "      <th>Price</th>\n",
       "    </tr>\n",
       "    <tr>\n",
       "      <th>Date</th>\n",
       "      <th></th>\n",
       "    </tr>\n",
       "  </thead>\n",
       "  <tbody>\n",
       "    <tr>\n",
       "      <th>1987-05-20</th>\n",
       "      <td>18.63</td>\n",
       "    </tr>\n",
       "    <tr>\n",
       "      <th>1987-05-21</th>\n",
       "      <td>18.45</td>\n",
       "    </tr>\n",
       "    <tr>\n",
       "      <th>1987-05-22</th>\n",
       "      <td>18.55</td>\n",
       "    </tr>\n",
       "    <tr>\n",
       "      <th>1987-05-25</th>\n",
       "      <td>18.60</td>\n",
       "    </tr>\n",
       "    <tr>\n",
       "      <th>1987-05-26</th>\n",
       "      <td>18.63</td>\n",
       "    </tr>\n",
       "    <tr>\n",
       "      <th>...</th>\n",
       "      <td>...</td>\n",
       "    </tr>\n",
       "    <tr>\n",
       "      <th>2021-01-19</th>\n",
       "      <td>55.38</td>\n",
       "    </tr>\n",
       "    <tr>\n",
       "      <th>2021-01-20</th>\n",
       "      <td>55.66</td>\n",
       "    </tr>\n",
       "    <tr>\n",
       "      <th>2021-01-21</th>\n",
       "      <td>55.68</td>\n",
       "    </tr>\n",
       "    <tr>\n",
       "      <th>2021-01-22</th>\n",
       "      <td>55.22</td>\n",
       "    </tr>\n",
       "    <tr>\n",
       "      <th>2021-01-25</th>\n",
       "      <td>55.44</td>\n",
       "    </tr>\n",
       "  </tbody>\n",
       "</table>\n",
       "<p>8554 rows × 1 columns</p>\n",
       "</div>"
      ],
      "text/plain": [
       "            Price\n",
       "Date             \n",
       "1987-05-20  18.63\n",
       "1987-05-21  18.45\n",
       "1987-05-22  18.55\n",
       "1987-05-25  18.60\n",
       "1987-05-26  18.63\n",
       "...           ...\n",
       "2021-01-19  55.38\n",
       "2021-01-20  55.66\n",
       "2021-01-21  55.68\n",
       "2021-01-22  55.22\n",
       "2021-01-25  55.44\n",
       "\n",
       "[8554 rows x 1 columns]"
      ]
     },
     "execution_count": 10,
     "metadata": {},
     "output_type": "execute_result"
    }
   ],
   "source": [
    "df.set_index(\"Date\",inplace=True)\n",
    "df"
   ]
  },
  {
   "cell_type": "markdown",
   "id": "f35fbe55",
   "metadata": {},
   "source": [
    "##  Price variation graph of the crude oil "
   ]
  },
  {
   "cell_type": "code",
   "execution_count": 11,
   "id": "5fe9b366",
   "metadata": {},
   "outputs": [],
   "source": [
    "import matplotlib.pyplot as plt"
   ]
  },
  {
   "cell_type": "code",
   "execution_count": 12,
   "id": "f11e4c29",
   "metadata": {},
   "outputs": [
    {
     "data": {
      "text/plain": [
       "[<matplotlib.lines.Line2D at 0x2a1207f85b0>]"
      ]
     },
     "execution_count": 12,
     "metadata": {},
     "output_type": "execute_result"
    },
    {
     "data": {
      "image/png": "[encoded data removed]",
      "text/plain": [
       "<Figure size 1152x288 with 1 Axes>"
      ]
     },
     "metadata": {
      "needs_background": "light"
     },
     "output_type": "display_data"
    }
   ],
   "source": [
    "plt.figure(figsize=(16,4))\n",
    "plt.plot(df[\"Price\"])"
   ]
  },
  {
   "cell_type": "code",
   "execution_count": 13,
   "id": "52f9669f",
   "metadata": {},
   "outputs": [
    {
     "data": {
      "text/plain": [
       "<AxesSubplot:xlabel='Date'>"
      ]
     },
     "execution_count": 13,
     "metadata": {},
     "output_type": "execute_result"
    },
    {
     "data": {
      "image/png": "[encoded data removed]",
      "text/plain": [
       "<Figure size 1008x288 with 1 Axes>"
      ]
     },
     "metadata": {
      "needs_background": "light"
     },
     "output_type": "display_data"
    }
   ],
   "source": [
    "df.plot(xlim=['2000-01-01' , '2021-01-25'],figsize=(14,4))"
   ]
  },
  {
   "cell_type": "markdown",
   "id": "24b58bc9",
   "metadata": {},
   "source": [
    "## Highest Price of the crude oil"
   ]
  },
  {
   "cell_type": "code",
   "execution_count": 14,
   "id": "cd68bddb",
   "metadata": {},
   "outputs": [
    {
     "data": {
      "text/plain": [
       "143.95"
      ]
     },
     "execution_count": 14,
     "metadata": {},
     "output_type": "execute_result"
    }
   ],
   "source": [
    "df[\"Price\"].max()"
   ]
  },
  {
   "cell_type": "markdown",
   "id": "f3ac674b",
   "metadata": {},
   "source": [
    "## Lowest Price of the crude oil"
   ]
  },
  {
   "cell_type": "code",
   "execution_count": 15,
   "id": "122e6814",
   "metadata": {},
   "outputs": [
    {
     "data": {
      "text/plain": [
       "9.1"
      ]
     },
     "execution_count": 15,
     "metadata": {},
     "output_type": "execute_result"
    }
   ],
   "source": [
    "df[\"Price\"].min()"
   ]
  },
  {
   "cell_type": "markdown",
   "id": "6c398815",
   "metadata": {},
   "source": [
    "## Minimum crude oil price of each year"
   ]
  },
  {
   "cell_type": "code",
   "execution_count": 16,
   "id": "ee7611f1",
   "metadata": {},
   "outputs": [
    {
     "data": {
      "text/html": [
       "<div>\n",
       "<style scoped>\n",
       "    .dataframe tbody tr th:only-of-type {\n",
       "        vertical-align: middle;\n",
       "    }\n",
       "\n",
       "    .dataframe tbody tr th {\n",
       "        vertical-align: top;\n",
       "    }\n",
       "\n",
       "    .dataframe thead th {\n",
       "        text-align: right;\n",
       "    }\n",
       "</style>\n",
       "<table border=\"1\" class=\"dataframe\">\n",
       "  <thead>\n",
       "    <tr style=\"text-align: right;\">\n",
       "      <th></th>\n",
       "      <th>Price</th>\n",
       "    </tr>\n",
       "    <tr>\n",
       "      <th>Date</th>\n",
       "      <th></th>\n",
       "    </tr>\n",
       "  </thead>\n",
       "  <tbody>\n",
       "    <tr>\n",
       "      <th>1987-12-31</th>\n",
       "      <td>15.03</td>\n",
       "    </tr>\n",
       "    <tr>\n",
       "      <th>1988-12-31</th>\n",
       "      <td>11.20</td>\n",
       "    </tr>\n",
       "    <tr>\n",
       "      <th>1989-12-31</th>\n",
       "      <td>16.05</td>\n",
       "    </tr>\n",
       "    <tr>\n",
       "      <th>1990-12-31</th>\n",
       "      <td>14.68</td>\n",
       "    </tr>\n",
       "    <tr>\n",
       "      <th>1991-12-31</th>\n",
       "      <td>17.60</td>\n",
       "    </tr>\n",
       "    <tr>\n",
       "      <th>1992-12-31</th>\n",
       "      <td>17.05</td>\n",
       "    </tr>\n",
       "    <tr>\n",
       "      <th>1993-12-31</th>\n",
       "      <td>13.13</td>\n",
       "    </tr>\n",
       "    <tr>\n",
       "      <th>1994-12-31</th>\n",
       "      <td>13.00</td>\n",
       "    </tr>\n",
       "    <tr>\n",
       "      <th>1995-12-31</th>\n",
       "      <td>15.35</td>\n",
       "    </tr>\n",
       "    <tr>\n",
       "      <th>1996-12-31</th>\n",
       "      <td>16.23</td>\n",
       "    </tr>\n",
       "  </tbody>\n",
       "</table>\n",
       "</div>"
      ],
      "text/plain": [
       "            Price\n",
       "Date             \n",
       "1987-12-31  15.03\n",
       "1988-12-31  11.20\n",
       "1989-12-31  16.05\n",
       "1990-12-31  14.68\n",
       "1991-12-31  17.60\n",
       "1992-12-31  17.05\n",
       "1993-12-31  13.13\n",
       "1994-12-31  13.00\n",
       "1995-12-31  15.35\n",
       "1996-12-31  16.23"
      ]
     },
     "execution_count": 16,
     "metadata": {},
     "output_type": "execute_result"
    }
   ],
   "source": [
    "df_min = df.resample(rule='A').min()\n",
    "df_min.head(10)"
   ]
  },
  {
   "cell_type": "code",
   "execution_count": 17,
   "id": "b3dcbac3",
   "metadata": {},
   "outputs": [
    {
     "data": {
      "text/html": [
       "<div>\n",
       "<style scoped>\n",
       "    .dataframe tbody tr th:only-of-type {\n",
       "        vertical-align: middle;\n",
       "    }\n",
       "\n",
       "    .dataframe tbody tr th {\n",
       "        vertical-align: top;\n",
       "    }\n",
       "\n",
       "    .dataframe thead th {\n",
       "        text-align: right;\n",
       "    }\n",
       "</style>\n",
       "<table border=\"1\" class=\"dataframe\">\n",
       "  <thead>\n",
       "    <tr style=\"text-align: right;\">\n",
       "      <th></th>\n",
       "      <th>Price</th>\n",
       "    </tr>\n",
       "    <tr>\n",
       "      <th>Date</th>\n",
       "      <th></th>\n",
       "    </tr>\n",
       "  </thead>\n",
       "  <tbody>\n",
       "    <tr>\n",
       "      <th>2012-12-31</th>\n",
       "      <td>88.69</td>\n",
       "    </tr>\n",
       "    <tr>\n",
       "      <th>2013-12-31</th>\n",
       "      <td>96.84</td>\n",
       "    </tr>\n",
       "    <tr>\n",
       "      <th>2014-12-31</th>\n",
       "      <td>55.27</td>\n",
       "    </tr>\n",
       "    <tr>\n",
       "      <th>2015-12-31</th>\n",
       "      <td>35.26</td>\n",
       "    </tr>\n",
       "    <tr>\n",
       "      <th>2016-12-31</th>\n",
       "      <td>26.01</td>\n",
       "    </tr>\n",
       "    <tr>\n",
       "      <th>2017-12-31</th>\n",
       "      <td>43.98</td>\n",
       "    </tr>\n",
       "    <tr>\n",
       "      <th>2018-12-31</th>\n",
       "      <td>50.57</td>\n",
       "    </tr>\n",
       "    <tr>\n",
       "      <th>2019-12-31</th>\n",
       "      <td>53.23</td>\n",
       "    </tr>\n",
       "    <tr>\n",
       "      <th>2020-12-31</th>\n",
       "      <td>9.12</td>\n",
       "    </tr>\n",
       "    <tr>\n",
       "      <th>2021-12-31</th>\n",
       "      <td>50.37</td>\n",
       "    </tr>\n",
       "  </tbody>\n",
       "</table>\n",
       "</div>"
      ],
      "text/plain": [
       "            Price\n",
       "Date             \n",
       "2012-12-31  88.69\n",
       "2013-12-31  96.84\n",
       "2014-12-31  55.27\n",
       "2015-12-31  35.26\n",
       "2016-12-31  26.01\n",
       "2017-12-31  43.98\n",
       "2018-12-31  50.57\n",
       "2019-12-31  53.23\n",
       "2020-12-31   9.12\n",
       "2021-12-31  50.37"
      ]
     },
     "execution_count": 17,
     "metadata": {},
     "output_type": "execute_result"
    }
   ],
   "source": [
    "df_min.tail(10)"
   ]
  },
  {
   "cell_type": "code",
   "execution_count": 18,
   "id": "896bd202",
   "metadata": {},
   "outputs": [
    {
     "data": {
      "text/plain": [
       "<AxesSubplot:xlabel='Date'>"
      ]
     },
     "execution_count": 18,
     "metadata": {},
     "output_type": "execute_result"
    },
    {
     "data": {
      "image/png": "[encoded data removed]",
      "text/plain": [
       "<Figure size 1152x288 with 1 Axes>"
      ]
     },
     "metadata": {
      "needs_background": "light"
     },
     "output_type": "display_data"
    }
   ],
   "source": [
    "df_min.plot(kind = 'bar', figsize=(16,4))"
   ]
  },
  {
   "cell_type": "markdown",
   "id": "bad43a5d",
   "metadata": {},
   "source": [
    "## Maximum crude oil price of each year"
   ]
  },
  {
   "cell_type": "code",
   "execution_count": 19,
   "id": "52901681",
   "metadata": {},
   "outputs": [
    {
     "data": {
      "text/html": [
       "<div>\n",
       "<style scoped>\n",
       "    .dataframe tbody tr th:only-of-type {\n",
       "        vertical-align: middle;\n",
       "    }\n",
       "\n",
       "    .dataframe tbody tr th {\n",
       "        vertical-align: top;\n",
       "    }\n",
       "\n",
       "    .dataframe thead th {\n",
       "        text-align: right;\n",
       "    }\n",
       "</style>\n",
       "<table border=\"1\" class=\"dataframe\">\n",
       "  <thead>\n",
       "    <tr style=\"text-align: right;\">\n",
       "      <th></th>\n",
       "      <th>Price</th>\n",
       "    </tr>\n",
       "    <tr>\n",
       "      <th>Date</th>\n",
       "      <th></th>\n",
       "    </tr>\n",
       "  </thead>\n",
       "  <tbody>\n",
       "    <tr>\n",
       "      <th>1987-12-31</th>\n",
       "      <td>20.95</td>\n",
       "    </tr>\n",
       "    <tr>\n",
       "      <th>1988-12-31</th>\n",
       "      <td>17.95</td>\n",
       "    </tr>\n",
       "    <tr>\n",
       "      <th>1989-12-31</th>\n",
       "      <td>22.25</td>\n",
       "    </tr>\n",
       "    <tr>\n",
       "      <th>1990-12-31</th>\n",
       "      <td>41.45</td>\n",
       "    </tr>\n",
       "    <tr>\n",
       "      <th>1991-12-31</th>\n",
       "      <td>30.28</td>\n",
       "    </tr>\n",
       "    <tr>\n",
       "      <th>1992-12-31</th>\n",
       "      <td>21.55</td>\n",
       "    </tr>\n",
       "    <tr>\n",
       "      <th>1993-12-31</th>\n",
       "      <td>19.60</td>\n",
       "    </tr>\n",
       "    <tr>\n",
       "      <th>1994-12-31</th>\n",
       "      <td>19.03</td>\n",
       "    </tr>\n",
       "    <tr>\n",
       "      <th>1995-12-31</th>\n",
       "      <td>19.38</td>\n",
       "    </tr>\n",
       "    <tr>\n",
       "      <th>1996-12-31</th>\n",
       "      <td>25.40</td>\n",
       "    </tr>\n",
       "  </tbody>\n",
       "</table>\n",
       "</div>"
      ],
      "text/plain": [
       "            Price\n",
       "Date             \n",
       "1987-12-31  20.95\n",
       "1988-12-31  17.95\n",
       "1989-12-31  22.25\n",
       "1990-12-31  41.45\n",
       "1991-12-31  30.28\n",
       "1992-12-31  21.55\n",
       "1993-12-31  19.60\n",
       "1994-12-31  19.03\n",
       "1995-12-31  19.38\n",
       "1996-12-31  25.40"
      ]
     },
     "execution_count": 19,
     "metadata": {},
     "output_type": "execute_result"
    }
   ],
   "source": [
    "df_max = df.resample(rule='A').max()\n",
    "df_max.head(10)"
   ]
  },
  {
   "cell_type": "code",
   "execution_count": 20,
   "id": "5107ce90",
   "metadata": {},
   "outputs": [
    {
     "data": {
      "text/plain": [
       "<AxesSubplot:xlabel='Date'>"
      ]
     },
     "execution_count": 20,
     "metadata": {},
     "output_type": "execute_result"
    },
    {
     "data": {
      "image/png": "[encoded data removed]",
      "text/plain": [
       "<Figure size 1152x288 with 1 Axes>"
      ]
     },
     "metadata": {
      "needs_background": "light"
     },
     "output_type": "display_data"
    }
   ],
   "source": [
    "df_max.plot(figsize=(16,4))"
   ]
  },
  {
   "cell_type": "markdown",
   "id": "8136468a",
   "metadata": {},
   "source": [
    "## Checking the distribution of Price"
   ]
  },
  {
   "cell_type": "code",
   "execution_count": 21,
   "id": "2992d4f4",
   "metadata": {},
   "outputs": [],
   "source": [
    "import seaborn as sns"
   ]
  },
  {
   "cell_type": "code",
   "execution_count": 22,
   "id": "9039c78e",
   "metadata": {
    "scrolled": false
   },
   "outputs": [
    {
     "data": {
      "image/png": "[encoded data removed]",
      "text/plain": [
       "<Figure size 576x288 with 1 Axes>"
      ]
     },
     "metadata": {
      "needs_background": "light"
     },
     "output_type": "display_data"
    }
   ],
   "source": [
    "plt.figure(figsize=(8,4))\n",
    "sns.distplot(df[\"Price\"])\n",
    "plt.show()"
   ]
  },
  {
   "cell_type": "markdown",
   "id": "a96c55d3",
   "metadata": {},
   "source": [
    "## checking the stationary of Price"
   ]
  },
  {
   "cell_type": "code",
   "execution_count": 23,
   "id": "ea35511b",
   "metadata": {},
   "outputs": [],
   "source": [
    "from statsmodels.tsa.stattools import adfuller"
   ]
  },
  {
   "cell_type": "code",
   "execution_count": 24,
   "id": "ba6c131d",
   "metadata": {},
   "outputs": [],
   "source": [
    "def adf_test(x):\n",
    "    res = adfuller(x)\n",
    "    print(\"ADF stat :\",res[0])\n",
    "    print(\"P val :\" , res[1])  \n",
    "    if res[1] <= 0.05:\n",
    "        print(\"strong evidence against the null hypothesis, reject the null hypothesis. Data has no unit root and is stationary\")\n",
    "    else:\n",
    "        print(\"weak evidence against null hypothesis, time series has a unit root, indicating it is non-stationary \")"
   ]
  },
  {
   "cell_type": "code",
   "execution_count": 25,
   "id": "29584fd0",
   "metadata": {},
   "outputs": [
    {
     "name": "stdout",
     "output_type": "stream",
     "text": [
      "ADF stat : -2.1199498309908495\n",
      "P val : 0.23656870472361569\n",
      "weak evidence against null hypothesis, time series has a unit root, indicating it is non-stationary \n"
     ]
    }
   ],
   "source": [
    "adf_test(df['Price'])"
   ]
  },
  {
   "cell_type": "markdown",
   "id": "a622f60a",
   "metadata": {},
   "source": [
    "### The price is non stationary as per ADFuller Test"
   ]
  },
  {
   "cell_type": "code",
   "execution_count": null,
   "id": "312d9847",
   "metadata": {},
   "outputs": [],
   "source": []
  },
  {
   "cell_type": "code",
   "execution_count": 26,
   "id": "4a377c8b",
   "metadata": {},
   "outputs": [],
   "source": [
    "from statsmodels.tsa.seasonal import seasonal_decompose"
   ]
  },
  {
   "cell_type": "code",
   "execution_count": 27,
   "id": "b479e85c",
   "metadata": {},
   "outputs": [],
   "source": [
    "additive_decomposition = seasonal_decompose(df['Price'], model='additive', period=365)"
   ]
  },
  {
   "cell_type": "code",
   "execution_count": 28,
   "id": "a32e2de7",
   "metadata": {},
   "outputs": [
    {
     "data": {
      "image/png": "[encoded data removed]",
      "text/plain": [
       "<Figure size 432x288 with 4 Axes>"
      ]
     },
     "metadata": {
      "needs_background": "light"
     },
     "output_type": "display_data"
    }
   ],
   "source": [
    "additive_decomposition.plot()\n",
    "plt.show()\n"
   ]
  },
  {
   "cell_type": "markdown",
   "id": "13c98a56",
   "metadata": {},
   "source": [
    "## Spliting the Data"
   ]
  },
  {
   "cell_type": "code",
   "execution_count": 29,
   "id": "494426ea",
   "metadata": {},
   "outputs": [],
   "source": [
    "train_ends = 7000"
   ]
  },
  {
   "cell_type": "code",
   "execution_count": 30,
   "id": "74654ffd",
   "metadata": {},
   "outputs": [
    {
     "data": {
      "text/plain": [
       "(1554, 1)"
      ]
     },
     "execution_count": 30,
     "metadata": {},
     "output_type": "execute_result"
    }
   ],
   "source": [
    "train = df[:7000]\n",
    "test = df[7000:]\n",
    "test.shape"
   ]
  },
  {
   "cell_type": "markdown",
   "id": "ca34958b",
   "metadata": {},
   "source": [
    "## ACF adnd PACF"
   ]
  },
  {
   "cell_type": "code",
   "execution_count": 31,
   "id": "996028a7",
   "metadata": {},
   "outputs": [
    {
     "data": {
      "image/png": "[encoded data removed]",
      "text/plain": [
       "<Figure size 432x288 with 1 Axes>"
      ]
     },
     "metadata": {
      "needs_background": "light"
     },
     "output_type": "display_data"
    },
    {
     "data": {
      "image/png": "[encoded data removed]",
      "text/plain": [
       "<Figure size 432x288 with 1 Axes>"
      ]
     },
     "metadata": {
      "needs_background": "light"
     },
     "output_type": "display_data"
    }
   ],
   "source": [
    "import statsmodels.graphics.tsaplots as tsa_plots\n",
    "tsa_plots.plot_acf(train,lags=12)\n",
    "tsa_plots.plot_pacf(train,lags=12)\n",
    "plt.show()"
   ]
  },
  {
   "cell_type": "code",
   "execution_count": null,
   "id": "cc99a845",
   "metadata": {},
   "outputs": [],
   "source": []
  },
  {
   "cell_type": "code",
   "execution_count": null,
   "id": "2ff00c46",
   "metadata": {},
   "outputs": [],
   "source": []
  },
  {
   "cell_type": "markdown",
   "id": "6544f5c1",
   "metadata": {},
   "source": [
    "## Manual Method to find the PDQ "
   ]
  },
  {
   "cell_type": "code",
   "execution_count": 32,
   "id": "4c05d99d",
   "metadata": {},
   "outputs": [],
   "source": [
    "import itertools"
   ]
  },
  {
   "cell_type": "code",
   "execution_count": 33,
   "id": "950eaecf",
   "metadata": {},
   "outputs": [],
   "source": [
    "p = range(0,8)\n",
    "q = range(0,8)\n",
    "d = range(0,2)"
   ]
  },
  {
   "cell_type": "code",
   "execution_count": 34,
   "id": "db2d9101",
   "metadata": {},
   "outputs": [],
   "source": [
    "pdq_combination = list(itertools.product(p,d,q))"
   ]
  },
  {
   "cell_type": "code",
   "execution_count": 35,
   "id": "f8f4ebd4",
   "metadata": {},
   "outputs": [
    {
     "data": {
      "text/plain": [
       "7000"
      ]
     },
     "execution_count": 35,
     "metadata": {},
     "output_type": "execute_result"
    }
   ],
   "source": [
    "len(train)"
   ]
  },
  {
   "cell_type": "code",
   "execution_count": 36,
   "id": "2e6f7aef",
   "metadata": {},
   "outputs": [
    {
     "data": {
      "text/plain": [
       "8553"
      ]
     },
     "execution_count": 36,
     "metadata": {},
     "output_type": "execute_result"
    }
   ],
   "source": [
    "(len(df)-1)"
   ]
  },
  {
   "cell_type": "code",
   "execution_count": 37,
   "id": "8f8b01a7",
   "metadata": {},
   "outputs": [
    {
     "data": {
      "text/plain": [
       "1553"
      ]
     },
     "execution_count": 37,
     "metadata": {},
     "output_type": "execute_result"
    }
   ],
   "source": [
    "8553-7000"
   ]
  },
  {
   "cell_type": "code",
   "execution_count": 38,
   "id": "df8d45b8",
   "metadata": {},
   "outputs": [],
   "source": [
    "import warnings\n",
    "warnings.filterwarnings('ignore')"
   ]
  },
  {
   "cell_type": "code",
   "execution_count": 39,
   "id": "6a7e204f",
   "metadata": {},
   "outputs": [],
   "source": [
    "rmse = []\n",
    "order = []\n"
   ]
  },
  {
   "cell_type": "code",
   "execution_count": 40,
   "id": "714277cd",
   "metadata": {},
   "outputs": [],
   "source": [
    "from statsmodels. tsa. arima_model import ARIMA\n",
    "from sklearn.metrics import mean_squared_error"
   ]
  },
  {
   "cell_type": "code",
   "execution_count": 41,
   "id": "518e3b27",
   "metadata": {
    "scrolled": false
   },
   "outputs": [
    {
     "name": "stdout",
     "output_type": "stream",
     "text": [
      "0\n",
      "1\n",
      "2\n",
      "3\n",
      "4\n",
      "5\n",
      "6\n",
      "7\n",
      "8\n",
      "9\n",
      "10\n",
      "11\n",
      "12\n",
      "13\n",
      "14\n",
      "15\n",
      "16\n",
      "17\n",
      "18\n",
      "19\n",
      "20\n",
      "21\n",
      "22\n",
      "23\n",
      "24\n",
      "25\n",
      "26\n",
      "27\n",
      "28\n",
      "29\n",
      "30\n",
      "31\n",
      "32\n",
      "33\n",
      "34\n",
      "35\n",
      "36\n",
      "37\n",
      "38\n",
      "39\n",
      "40\n",
      "41\n",
      "42\n",
      "43\n",
      "44\n",
      "45\n",
      "46\n",
      "47\n",
      "48\n",
      "49\n",
      "50\n",
      "51\n",
      "52\n",
      "53\n",
      "54\n",
      "55\n",
      "56\n",
      "57\n",
      "58\n",
      "59\n",
      "60\n",
      "61\n",
      "62\n",
      "63\n",
      "64\n",
      "65\n",
      "66\n",
      "67\n",
      "68\n",
      "69\n",
      "70\n",
      "71\n",
      "72\n",
      "73\n",
      "74\n",
      "75\n",
      "76\n",
      "77\n",
      "78\n",
      "79\n",
      "80\n",
      "81\n",
      "82\n",
      "83\n",
      "84\n",
      "85\n",
      "86\n",
      "87\n",
      "88\n",
      "89\n",
      "90\n",
      "91\n",
      "92\n",
      "93\n",
      "94\n",
      "95\n",
      "96\n",
      "97\n",
      "98\n",
      "99\n",
      "100\n",
      "101\n",
      "102\n",
      "103\n",
      "104\n",
      "105\n",
      "106\n",
      "107\n",
      "108\n",
      "109\n",
      "110\n",
      "111\n",
      "112\n",
      "113\n",
      "114\n",
      "115\n",
      "116\n",
      "117\n",
      "118\n",
      "119\n",
      "120\n",
      "121\n"
     ]
    }
   ],
   "source": [
    "i = 0\n",
    "for pdq in pdq_combination:\n",
    "    try:\n",
    "        model = ARIMA(train,order=pdq).fit()\n",
    "        pred = model.predict(start = len(train),end = (len(df)-1))\n",
    "        error = np.sqrt(mean_squared_error(test,pred))\n",
    "        order.append(pdq)\n",
    "        rmse.append(error)\n",
    "        print(i)\n",
    "        i = i+1\n",
    "    except:\n",
    "        continue\n",
    "        \n",
    "        "
   ]
  },
  {
   "cell_type": "code",
   "execution_count": 42,
   "id": "d3ece4e3",
   "metadata": {},
   "outputs": [],
   "source": [
    "pdq_val = pd.DataFrame(index=order,data = rmse,columns=[\"RMSE\"])"
   ]
  },
  {
   "cell_type": "code",
   "execution_count": 43,
   "id": "33e98a16",
   "metadata": {},
   "outputs": [
    {
     "data": {
      "text/plain": [
       "RMSE    13.154838\n",
       "dtype: float64"
      ]
     },
     "execution_count": 43,
     "metadata": {},
     "output_type": "execute_result"
    }
   ],
   "source": [
    "pdq_val.min()"
   ]
  },
  {
   "cell_type": "code",
   "execution_count": 44,
   "id": "1128a53b",
   "metadata": {},
   "outputs": [],
   "source": [
    "pdq_val.to_csv('pdq.csv')"
   ]
  },
  {
   "cell_type": "code",
   "execution_count": 45,
   "id": "5dd91faf",
   "metadata": {},
   "outputs": [
    {
     "data": {
      "text/plain": [
       "RMSE    13.314901\n",
       "Name: (4, 0, 6), dtype: float64"
      ]
     },
     "execution_count": 45,
     "metadata": {},
     "output_type": "execute_result"
    }
   ],
   "source": [
    "pdq_val.iloc[64]"
   ]
  },
  {
   "cell_type": "markdown",
   "id": "5b02dea3",
   "metadata": {},
   "source": [
    "## Arimax"
   ]
  },
  {
   "cell_type": "code",
   "execution_count": 46,
   "id": "3d684403",
   "metadata": {},
   "outputs": [],
   "source": [
    "final = ARIMA(train,order=(4,0,6)).fit()"
   ]
  },
  {
   "cell_type": "code",
   "execution_count": 47,
   "id": "9b866812",
   "metadata": {},
   "outputs": [],
   "source": [
    "predicted = final.predict(start = len(train),end = (len(df)-1))"
   ]
  },
  {
   "cell_type": "code",
   "execution_count": 48,
   "id": "7eeaf865",
   "metadata": {},
   "outputs": [],
   "source": [
    "predicted = pd.DataFrame(index=test.index,data = predicted.values, columns= [\"PRED\"])"
   ]
  },
  {
   "cell_type": "code",
   "execution_count": 49,
   "id": "19e01fad",
   "metadata": {
    "scrolled": true
   },
   "outputs": [
    {
     "data": {
      "text/plain": [
       "[<matplotlib.lines.Line2D at 0x2a125938460>]"
      ]
     },
     "execution_count": 49,
     "metadata": {},
     "output_type": "execute_result"
    },
    {
     "data": {
      "image/png": "[encoded data removed]",
      "text/plain": [
       "<Figure size 432x288 with 1 Axes>"
      ]
     },
     "metadata": {
      "needs_background": "light"
     },
     "output_type": "display_data"
    }
   ],
   "source": [
    "plt.plot(test)\n",
    "plt.plot(predicted)"
   ]
  },
  {
   "cell_type": "code",
   "execution_count": 50,
   "id": "31c2e8f0",
   "metadata": {},
   "outputs": [],
   "source": [
    "from pmdarima.arima import auto_arima"
   ]
  },
  {
   "cell_type": "code",
   "execution_count": 51,
   "id": "8d46706b",
   "metadata": {},
   "outputs": [
    {
     "data": {
      "text/html": [
       "<table class=\"simpletable\">\n",
       "<caption>SARIMAX Results</caption>\n",
       "<tr>\n",
       "  <th>Dep. Variable:</th>           <td>y</td>        <th>  No. Observations:  </th>    <td>7000</td>   \n",
       "</tr>\n",
       "<tr>\n",
       "  <th>Model:</th>           <td>SARIMAX(0, 1, 1)</td> <th>  Log Likelihood     </th> <td>-10267.982</td>\n",
       "</tr>\n",
       "<tr>\n",
       "  <th>Date:</th>            <td>Sun, 04 Sep 2022</td> <th>  AIC                </th>  <td>20539.963</td>\n",
       "</tr>\n",
       "<tr>\n",
       "  <th>Time:</th>                <td>18:54:39</td>     <th>  BIC                </th>  <td>20553.670</td>\n",
       "</tr>\n",
       "<tr>\n",
       "  <th>Sample:</th>                  <td>0</td>        <th>  HQIC               </th>  <td>20544.686</td>\n",
       "</tr>\n",
       "<tr>\n",
       "  <th></th>                      <td> - 7000</td>     <th>                     </th>      <td> </td>    \n",
       "</tr>\n",
       "<tr>\n",
       "  <th>Covariance Type:</th>        <td>opg</td>       <th>                     </th>      <td> </td>    \n",
       "</tr>\n",
       "</table>\n",
       "<table class=\"simpletable\">\n",
       "<tr>\n",
       "     <td></td>       <th>coef</th>     <th>std err</th>      <th>z</th>      <th>P>|z|</th>  <th>[0.025</th>    <th>0.975]</th>  \n",
       "</tr>\n",
       "<tr>\n",
       "  <th>ma.L1</th>  <td>    0.0328</td> <td>    0.007</td> <td>    4.413</td> <td> 0.000</td> <td>    0.018</td> <td>    0.047</td>\n",
       "</tr>\n",
       "<tr>\n",
       "  <th>sigma2</th> <td>    1.1010</td> <td>    0.008</td> <td>  146.208</td> <td> 0.000</td> <td>    1.086</td> <td>    1.116</td>\n",
       "</tr>\n",
       "</table>\n",
       "<table class=\"simpletable\">\n",
       "<tr>\n",
       "  <th>Ljung-Box (L1) (Q):</th>     <td>0.00</td>  <th>  Jarque-Bera (JB):  </th> <td>30949.34</td>\n",
       "</tr>\n",
       "<tr>\n",
       "  <th>Prob(Q):</th>                <td>0.99</td>  <th>  Prob(JB):          </th>   <td>0.00</td>  \n",
       "</tr>\n",
       "<tr>\n",
       "  <th>Heteroskedasticity (H):</th> <td>10.07</td> <th>  Skew:              </th>   <td>-0.29</td> \n",
       "</tr>\n",
       "<tr>\n",
       "  <th>Prob(H) (two-sided):</th>    <td>0.00</td>  <th>  Kurtosis:          </th>   <td>13.29</td> \n",
       "</tr>\n",
       "</table><br/><br/>Warnings:<br/>[1] Covariance matrix calculated using the outer product of gradients (complex-step)."
      ],
      "text/plain": [
       "<class 'statsmodels.iolib.summary.Summary'>\n",
       "\"\"\"\n",
       "                               SARIMAX Results                                \n",
       "==============================================================================\n",
       "Dep. Variable:                      y   No. Observations:                 7000\n",
       "Model:               SARIMAX(0, 1, 1)   Log Likelihood              -10267.982\n",
       "Date:                Sun, 04 Sep 2022   AIC                          20539.963\n",
       "Time:                        18:54:39   BIC                          20553.670\n",
       "Sample:                             0   HQIC                         20544.686\n",
       "                               - 7000                                         \n",
       "Covariance Type:                  opg                                         \n",
       "==============================================================================\n",
       "                 coef    std err          z      P>|z|      [0.025      0.975]\n",
       "------------------------------------------------------------------------------\n",
       "ma.L1          0.0328      0.007      4.413      0.000       0.018       0.047\n",
       "sigma2         1.1010      0.008    146.208      0.000       1.086       1.116\n",
       "===================================================================================\n",
       "Ljung-Box (L1) (Q):                   0.00   Jarque-Bera (JB):             30949.34\n",
       "Prob(Q):                              0.99   Prob(JB):                         0.00\n",
       "Heteroskedasticity (H):              10.07   Skew:                            -0.29\n",
       "Prob(H) (two-sided):                  0.00   Kurtosis:                        13.29\n",
       "===================================================================================\n",
       "\n",
       "Warnings:\n",
       "[1] Covariance matrix calculated using the outer product of gradients (complex-step).\n",
       "\"\"\""
      ]
     },
     "execution_count": 51,
     "metadata": {},
     "output_type": "execute_result"
    }
   ],
   "source": [
    "auto_arima(train).summary()"
   ]
  },
  {
   "cell_type": "markdown",
   "id": "cf355a63",
   "metadata": {},
   "source": [
    "## Sarimax"
   ]
  },
  {
   "cell_type": "code",
   "execution_count": 52,
   "id": "1c20ca15",
   "metadata": {},
   "outputs": [],
   "source": [
    "from statsmodels.tsa.statespace.sarimax import SARIMAX"
   ]
  },
  {
   "cell_type": "code",
   "execution_count": 53,
   "id": "d0cfe767",
   "metadata": {},
   "outputs": [],
   "source": [
    "Train_log = np.log(train[\"Price\"])\n",
    "Test_log = np.log(test[\"Price\"])"
   ]
  },
  {
   "cell_type": "code",
   "execution_count": 54,
   "id": "54caa6fd",
   "metadata": {},
   "outputs": [],
   "source": [
    "\n",
    "model_sarimax = SARIMAX(Train_log,order = (4, 0, 6),seasonal_order=(0,0,0,12))"
   ]
  },
  {
   "cell_type": "code",
   "execution_count": 55,
   "id": "f384752c",
   "metadata": {},
   "outputs": [],
   "source": [
    "res = model_sarimax.fit()"
   ]
  },
  {
   "cell_type": "code",
   "execution_count": 56,
   "id": "521e39c2",
   "metadata": {},
   "outputs": [],
   "source": [
    "pred_sarimax = res.predict(start = len(train),end = (len(df)-1))"
   ]
  },
  {
   "cell_type": "code",
   "execution_count": 57,
   "id": "1e32b266",
   "metadata": {},
   "outputs": [],
   "source": [
    "import matplotlib.pyplot as plt"
   ]
  },
  {
   "cell_type": "code",
   "execution_count": 58,
   "id": "a598dab1",
   "metadata": {},
   "outputs": [],
   "source": [
    "predicted_Sarima = pd.DataFrame(index=test.index,data = pred_sarimax.values, columns= [\"PRED\"])"
   ]
  },
  {
   "cell_type": "code",
   "execution_count": 59,
   "id": "c00fad47",
   "metadata": {},
   "outputs": [
    {
     "data": {
      "text/plain": [
       "[<matplotlib.lines.Line2D at 0x2a127365bb0>]"
      ]
     },
     "execution_count": 59,
     "metadata": {},
     "output_type": "execute_result"
    },
    {
     "data": {
      "image/png": "[encoded data removed]",
      "text/plain": [
       "<Figure size 432x288 with 1 Axes>"
      ]
     },
     "metadata": {
      "needs_background": "light"
     },
     "output_type": "display_data"
    }
   ],
   "source": [
    "plt.plot(predicted_Sarima)\n",
    "plt.plot(Test_log)"
   ]
  },
  {
   "cell_type": "code",
   "execution_count": null,
   "id": "76f66042",
   "metadata": {},
   "outputs": [],
   "source": []
  },
  {
   "cell_type": "code",
   "execution_count": null,
   "id": "eb0ee4b0",
   "metadata": {},
   "outputs": [],
   "source": []
  },
  {
   "cell_type": "code",
   "execution_count": null,
   "id": "7f452908",
   "metadata": {},
   "outputs": [],
   "source": []
  },
  {
   "cell_type": "code",
   "execution_count": null,
   "id": "19fc0862",
   "metadata": {},
   "outputs": [],
   "source": []
  },
  {
   "cell_type": "code",
   "execution_count": null,
   "id": "eb5ce67b",
   "metadata": {},
   "outputs": [],
   "source": []
  },
  {
   "cell_type": "code",
   "execution_count": 60,
   "id": "c30acb25",
   "metadata": {},
   "outputs": [],
   "source": [
    "def df_x_y(df,window_size = 5):\n",
    "    df_as_np = df.to_numpy()\n",
    "    x = []\n",
    "    y = []\n",
    "    for i in range(len(df_as_np) - window_size):\n",
    "        row = df_as_np[i:i+5]\n",
    "        x.append(row)\n",
    "        label = df_as_np[i+5]\n",
    "        y.append(label)\n",
    "        \n",
    "    \n",
    "    return np.array(x),np.array(y)"
   ]
  },
  {
   "cell_type": "code",
   "execution_count": 61,
   "id": "797e7190",
   "metadata": {},
   "outputs": [],
   "source": [
    "x,y = df_x_y(df)"
   ]
  },
  {
   "cell_type": "code",
   "execution_count": 62,
   "id": "8bb4ef12",
   "metadata": {},
   "outputs": [
    {
     "data": {
      "text/plain": [
       "array([[[18.63],\n",
       "        [18.45],\n",
       "        [18.55],\n",
       "        [18.6 ],\n",
       "        [18.63]],\n",
       "\n",
       "       [[18.45],\n",
       "        [18.55],\n",
       "        [18.6 ],\n",
       "        [18.63],\n",
       "        [18.6 ]],\n",
       "\n",
       "       [[18.55],\n",
       "        [18.6 ],\n",
       "        [18.63],\n",
       "        [18.6 ],\n",
       "        [18.6 ]],\n",
       "\n",
       "       ...,\n",
       "\n",
       "       [[55.76],\n",
       "        [54.8 ],\n",
       "        [54.21],\n",
       "        [55.38],\n",
       "        [55.66]],\n",
       "\n",
       "       [[54.8 ],\n",
       "        [54.21],\n",
       "        [55.38],\n",
       "        [55.66],\n",
       "        [55.68]],\n",
       "\n",
       "       [[54.21],\n",
       "        [55.38],\n",
       "        [55.66],\n",
       "        [55.68],\n",
       "        [55.22]]])"
      ]
     },
     "execution_count": 62,
     "metadata": {},
     "output_type": "execute_result"
    }
   ],
   "source": [
    "x"
   ]
  },
  {
   "cell_type": "code",
   "execution_count": 63,
   "id": "8bd4b0ef",
   "metadata": {},
   "outputs": [],
   "source": [
    "y = np.reshape(y,(-1,1))"
   ]
  },
  {
   "cell_type": "code",
   "execution_count": null,
   "id": "c3be41ab",
   "metadata": {},
   "outputs": [],
   "source": [
    "     "
   ]
  },
  {
   "cell_type": "code",
   "execution_count": 64,
   "id": "12888b51",
   "metadata": {},
   "outputs": [
    {
     "data": {
      "text/plain": [
       "(8549, 1)"
      ]
     },
     "execution_count": 64,
     "metadata": {},
     "output_type": "execute_result"
    }
   ],
   "source": [
    "y.shape"
   ]
  },
  {
   "cell_type": "markdown",
   "id": "e7113c38",
   "metadata": {},
   "source": [
    "## Splitting the data to Train ,Test and Validation"
   ]
  },
  {
   "cell_type": "code",
   "execution_count": 65,
   "id": "f4980841",
   "metadata": {},
   "outputs": [],
   "source": [
    "x_train,y_train = x[:7000], y[:7000]\n",
    "x_val,y_val = x[7000:7500], y[7000:7500]\n",
    "x_test,y_test = x[7500:], y[7500:]"
   ]
  },
  {
   "cell_type": "code",
   "execution_count": 66,
   "id": "b49c7b62",
   "metadata": {},
   "outputs": [
    {
     "name": "stdout",
     "output_type": "stream",
     "text": [
      "(7000, 5, 1) (7000, 1) (500, 5, 1) (500, 1) (1049, 5, 1) (1049, 1)\n"
     ]
    }
   ],
   "source": [
    "print(x_train.shape,y_train.shape,x_val.shape,y_val.shape,x_test.shape,y_test.shape)"
   ]
  },
  {
   "cell_type": "markdown",
   "id": "b531c372",
   "metadata": {},
   "source": [
    "## Creating LSTM model "
   ]
  },
  {
   "cell_type": "code",
   "execution_count": 67,
   "id": "9d5a3aa0",
   "metadata": {},
   "outputs": [],
   "source": [
    "from tensorflow.keras.models import Sequential"
   ]
  },
  {
   "cell_type": "code",
   "execution_count": 68,
   "id": "6b98c5ea",
   "metadata": {},
   "outputs": [],
   "source": [
    "from tensorflow.keras.layers import *\n",
    "from tensorflow.keras.callbacks import ModelCheckpoint\n",
    "from tensorflow.keras.losses import MeanSquaredError\n",
    "from tensorflow.keras.metrics import RootMeanSquaredError\n",
    "from tensorflow.keras.optimizers import Adam"
   ]
  },
  {
   "cell_type": "code",
   "execution_count": 69,
   "id": "8ca95fa4",
   "metadata": {},
   "outputs": [
    {
     "name": "stdout",
     "output_type": "stream",
     "text": [
      "Model: \"sequential\"\n",
      "_________________________________________________________________\n",
      "Layer (type)                 Output Shape              Param #   \n",
      "=================================================================\n",
      "lstm (LSTM)                  (None, 64)                16896     \n",
      "_________________________________________________________________\n",
      "dense (Dense)                (None, 8)                 520       \n",
      "_________________________________________________________________\n",
      "dense_1 (Dense)              (None, 1)                 9         \n",
      "=================================================================\n",
      "Total params: 17,425\n",
      "Trainable params: 17,425\n",
      "Non-trainable params: 0\n",
      "_________________________________________________________________\n"
     ]
    }
   ],
   "source": [
    "model = Sequential()\n",
    "model.add(InputLayer((5,1)))\n",
    "model.add(LSTM(64))\n",
    "model.add(Dense(8,'relu'))\n",
    "model.add(Dense(1,'linear'))\n",
    "\n",
    "model.summary()"
   ]
  },
  {
   "cell_type": "code",
   "execution_count": null,
   "id": "0373d607",
   "metadata": {},
   "outputs": [],
   "source": []
  },
  {
   "cell_type": "code",
   "execution_count": 70,
   "id": "e4150f29",
   "metadata": {},
   "outputs": [],
   "source": [
    "cp = ModelCheckpoint('model/',save_best_only=True)\n",
    "model.compile(optimizer=Adam(learning_rate=0.0001),loss=MeanSquaredError(),metrics=[RootMeanSquaredError()])"
   ]
  },
  {
   "cell_type": "code",
   "execution_count": 71,
   "id": "be2fe2fd",
   "metadata": {},
   "outputs": [
    {
     "name": "stdout",
     "output_type": "stream",
     "text": [
      "Epoch 1/65\n",
      "202/219 [==========================>...] - ETA: 0s - loss: 3077.0000 - root_mean_squared_error: 55.4707WARNING:tensorflow:From C:\\Users\\hp\\anaconda3\\lib\\site-packages\\tensorflow\\python\\ops\\resource_variable_ops.py:1813: calling BaseResourceVariable.__init__ (from tensorflow.python.ops.resource_variable_ops) with constraint is deprecated and will be removed in a future version.\n",
      "Instructions for updating:\n",
      "If using Keras pass *_constraint arguments to layers.\n",
      "INFO:tensorflow:Assets written to: model/assets\n",
      "219/219 [==============================] - 7s 30ms/step - loss: 3098.0894 - root_mean_squared_error: 55.6605 - val_loss: 2142.8823 - val_root_mean_squared_error: 46.2913\n",
      "Epoch 2/65\n",
      "212/219 [============================>.] - ETA: 0s - loss: 2757.7473 - root_mean_squared_error: 52.5143INFO:tensorflow:Assets written to: model/assets\n",
      "219/219 [==============================] - 5s 25ms/step - loss: 2757.3269 - root_mean_squared_error: 52.5103 - val_loss: 1445.8390 - val_root_mean_squared_error: 38.0242\n",
      "Epoch 3/65\n",
      "219/219 [==============================] - ETA: 0s - loss: 2131.8657 - root_mean_squared_error: 46.1721INFO:tensorflow:Assets written to: model/assets\n",
      "219/219 [==============================] - 5s 24ms/step - loss: 2131.8657 - root_mean_squared_error: 46.1721 - val_loss: 890.2122 - val_root_mean_squared_error: 29.8364\n",
      "Epoch 4/65\n",
      "209/219 [===========================>..] - ETA: 0s - loss: 1724.1039 - root_mean_squared_error: 41.5223INFO:tensorflow:Assets written to: model/assets\n",
      "219/219 [==============================] - 5s 25ms/step - loss: 1720.2885 - root_mean_squared_error: 41.4764 - val_loss: 607.1569 - val_root_mean_squared_error: 24.6406\n",
      "Epoch 5/65\n",
      "206/219 [===========================>..] - ETA: 0s - loss: 1465.3370 - root_mean_squared_error: 38.2797INFO:tensorflow:Assets written to: model/assets\n",
      "219/219 [==============================] - 5s 23ms/step - loss: 1467.0707 - root_mean_squared_error: 38.3024 - val_loss: 408.4254 - val_root_mean_squared_error: 20.2095\n",
      "Epoch 6/65\n",
      "208/219 [===========================>..] - ETA: 0s - loss: 1273.3484 - root_mean_squared_error: 35.6840INFO:tensorflow:Assets written to: model/assets\n",
      "219/219 [==============================] - 6s 25ms/step - loss: 1264.7948 - root_mean_squared_error: 35.5640 - val_loss: 259.2516 - val_root_mean_squared_error: 16.1013\n",
      "Epoch 7/65\n",
      "213/219 [============================>.] - ETA: 0s - loss: 1089.6108 - root_mean_squared_error: 33.0093INFO:tensorflow:Assets written to: model/assets\n",
      "219/219 [==============================] - 5s 22ms/step - loss: 1090.6146 - root_mean_squared_error: 33.0245 - val_loss: 150.5982 - val_root_mean_squared_error: 12.2718\n",
      "Epoch 8/65\n",
      "214/219 [============================>.] - ETA: 0s - loss: 927.6649 - root_mean_squared_error: 30.4576INFO:tensorflow:Assets written to: model/assets\n",
      "219/219 [==============================] - 5s 22ms/step - loss: 925.7423 - root_mean_squared_error: 30.4260 - val_loss: 74.9670 - val_root_mean_squared_error: 8.6584\n",
      "Epoch 9/65\n",
      "215/219 [============================>.] - ETA: 0s - loss: 782.5582 - root_mean_squared_error: 27.9742INFO:tensorflow:Assets written to: model/assets\n",
      "219/219 [==============================] - 5s 22ms/step - loss: 781.8973 - root_mean_squared_error: 27.9624 - val_loss: 35.7449 - val_root_mean_squared_error: 5.9787\n",
      "Epoch 10/65\n",
      "217/219 [============================>.] - ETA: 0s - loss: 658.2269 - root_mean_squared_error: 25.6559INFO:tensorflow:Assets written to: model/assets\n",
      "219/219 [==============================] - 5s 21ms/step - loss: 657.4938 - root_mean_squared_error: 25.6416 - val_loss: 16.2165 - val_root_mean_squared_error: 4.0270\n",
      "Epoch 11/65\n",
      "210/219 [===========================>..] - ETA: 0s - loss: 537.3085 - root_mean_squared_error: 23.1799INFO:tensorflow:Assets written to: model/assets\n",
      "219/219 [==============================] - 5s 24ms/step - loss: 543.9650 - root_mean_squared_error: 23.3231 - val_loss: 6.2613 - val_root_mean_squared_error: 2.5023\n",
      "Epoch 12/65\n",
      "214/219 [============================>.] - ETA: 0s - loss: 448.8625 - root_mean_squared_error: 21.1864INFO:tensorflow:Assets written to: model/assets\n",
      "219/219 [==============================] - 5s 21ms/step - loss: 448.0506 - root_mean_squared_error: 21.1672 - val_loss: 3.5363 - val_root_mean_squared_error: 1.8805\n",
      "Epoch 13/65\n",
      "208/219 [===========================>..] - ETA: 0s - loss: 369.6122 - root_mean_squared_error: 19.2253INFO:tensorflow:Assets written to: model/assets\n",
      "219/219 [==============================] - 5s 21ms/step - loss: 367.9864 - root_mean_squared_error: 19.1830 - val_loss: 3.2495 - val_root_mean_squared_error: 1.8027\n",
      "Epoch 14/65\n",
      "219/219 [==============================] - ETA: 0s - loss: 300.3225 - root_mean_squared_error: 17.3298INFO:tensorflow:Assets written to: model/assets\n",
      "219/219 [==============================] - 6s 26ms/step - loss: 300.3225 - root_mean_squared_error: 17.3298 - val_loss: 2.8146 - val_root_mean_squared_error: 1.6777\n",
      "Epoch 15/65\n",
      "215/219 [============================>.] - ETA: 0s - loss: 244.8763 - root_mean_squared_error: 15.6485INFO:tensorflow:Assets written to: model/assets\n",
      "219/219 [==============================] - 5s 22ms/step - loss: 243.3215 - root_mean_squared_error: 15.5988 - val_loss: 2.5324 - val_root_mean_squared_error: 1.5914\n",
      "Epoch 16/65\n",
      "211/219 [===========================>..] - ETA: 0s - loss: 195.9274 - root_mean_squared_error: 13.9974INFO:tensorflow:Assets written to: model/assets\n",
      "219/219 [==============================] - 5s 22ms/step - loss: 195.2898 - root_mean_squared_error: 13.9746 - val_loss: 2.4034 - val_root_mean_squared_error: 1.5503\n",
      "Epoch 17/65\n",
      "217/219 [============================>.] - ETA: 0s - loss: 154.9196 - root_mean_squared_error: 12.4467INFO:tensorflow:Assets written to: model/assets\n",
      "219/219 [==============================] - 5s 23ms/step - loss: 155.0579 - root_mean_squared_error: 12.4522 - val_loss: 2.2944 - val_root_mean_squared_error: 1.5147\n",
      "Epoch 18/65\n",
      "211/219 [===========================>..] - ETA: 0s - loss: 121.7229 - root_mean_squared_error: 11.0328INFO:tensorflow:Assets written to: model/assets\n",
      "219/219 [==============================] - 5s 23ms/step - loss: 121.4180 - root_mean_squared_error: 11.0190 - val_loss: 2.0880 - val_root_mean_squared_error: 1.4450\n",
      "Epoch 19/65\n",
      "219/219 [==============================] - ETA: 0s - loss: 93.5624 - root_mean_squared_error: 9.6728INFO:tensorflow:Assets written to: model/assets\n",
      "219/219 [==============================] - 5s 22ms/step - loss: 93.5624 - root_mean_squared_error: 9.6728 - val_loss: 1.9588 - val_root_mean_squared_error: 1.3996\n",
      "Epoch 20/65\n",
      "214/219 [============================>.] - ETA: 0s - loss: 69.9819 - root_mean_squared_error: 8.3655INFO:tensorflow:Assets written to: model/assets\n",
      "219/219 [==============================] - 5s 22ms/step - loss: 69.8344 - root_mean_squared_error: 8.3567 - val_loss: 1.8356 - val_root_mean_squared_error: 1.3548\n",
      "Epoch 21/65\n",
      "214/219 [============================>.] - ETA: 0s - loss: 52.2276 - root_mean_squared_error: 7.2269INFO:tensorflow:Assets written to: model/assets\n",
      "219/219 [==============================] - 5s 23ms/step - loss: 51.7340 - root_mean_squared_error: 7.1926 - val_loss: 1.7653 - val_root_mean_squared_error: 1.3286\n",
      "Epoch 22/65\n",
      "209/219 [===========================>..] - ETA: 0s - loss: 38.7577 - root_mean_squared_error: 6.2256INFO:tensorflow:Assets written to: model/assets\n",
      "219/219 [==============================] - 5s 22ms/step - loss: 38.2250 - root_mean_squared_error: 6.1826 - val_loss: 1.7074 - val_root_mean_squared_error: 1.3067\n",
      "Epoch 23/65\n",
      "218/219 [============================>.] - ETA: 0s - loss: 28.3499 - root_mean_squared_error: 5.3245INFO:tensorflow:Assets written to: model/assets\n",
      "219/219 [==============================] - 5s 23ms/step - loss: 28.2651 - root_mean_squared_error: 5.3165 - val_loss: 1.6484 - val_root_mean_squared_error: 1.2839\n",
      "Epoch 24/65\n",
      "219/219 [==============================] - 1s 4ms/step - loss: 21.0748 - root_mean_squared_error: 4.5907 - val_loss: 1.7029 - val_root_mean_squared_error: 1.3050\n",
      "Epoch 25/65\n",
      "213/219 [============================>.] - ETA: 0s - loss: 16.1369 - root_mean_squared_error: 4.0171INFO:tensorflow:Assets written to: model/assets\n"
     ]
    },
    {
     "name": "stdout",
     "output_type": "stream",
     "text": [
      "219/219 [==============================] - 5s 24ms/step - loss: 15.9841 - root_mean_squared_error: 3.9980 - val_loss: 1.6156 - val_root_mean_squared_error: 1.2711\n",
      "Epoch 26/65\n",
      "219/219 [==============================] - ETA: 0s - loss: 12.4488 - root_mean_squared_error: 3.5283INFO:tensorflow:Assets written to: model/assets\n",
      "219/219 [==============================] - 5s 21ms/step - loss: 12.4488 - root_mean_squared_error: 3.5283 - val_loss: 1.6105 - val_root_mean_squared_error: 1.2691\n",
      "Epoch 27/65\n",
      "212/219 [============================>.] - ETA: 0s - loss: 10.0821 - root_mean_squared_error: 3.1752INFO:tensorflow:Assets written to: model/assets\n",
      "219/219 [==============================] - 5s 22ms/step - loss: 9.9951 - root_mean_squared_error: 3.1615 - val_loss: 1.5932 - val_root_mean_squared_error: 1.2622\n",
      "Epoch 28/65\n",
      "215/219 [============================>.] - ETA: 0s - loss: 8.3569 - root_mean_squared_error: 2.8908INFO:tensorflow:Assets written to: model/assets\n",
      "219/219 [==============================] - 5s 25ms/step - loss: 8.2424 - root_mean_squared_error: 2.8710 - val_loss: 1.5882 - val_root_mean_squared_error: 1.2602\n",
      "Epoch 29/65\n",
      "219/219 [==============================] - 1s 4ms/step - loss: 7.0109 - root_mean_squared_error: 2.6478 - val_loss: 1.6358 - val_root_mean_squared_error: 1.2790\n",
      "Epoch 30/65\n",
      "219/219 [==============================] - 1s 5ms/step - loss: 6.0615 - root_mean_squared_error: 2.4620 - val_loss: 1.6413 - val_root_mean_squared_error: 1.2811\n",
      "Epoch 31/65\n",
      "219/219 [==============================] - 1s 5ms/step - loss: 5.3298 - root_mean_squared_error: 2.3086 - val_loss: 1.6118 - val_root_mean_squared_error: 1.2696\n",
      "Epoch 32/65\n",
      "219/219 [==============================] - 1s 5ms/step - loss: 4.7038 - root_mean_squared_error: 2.1688 - val_loss: 1.6402 - val_root_mean_squared_error: 1.2807\n",
      "Epoch 33/65\n",
      "218/219 [============================>.] - ETA: 0s - loss: 4.2186 - root_mean_squared_error: 2.0539INFO:tensorflow:Assets written to: model/assets\n",
      "219/219 [==============================] - 5s 22ms/step - loss: 4.2171 - root_mean_squared_error: 2.0536 - val_loss: 1.5713 - val_root_mean_squared_error: 1.2535\n",
      "Epoch 34/65\n",
      "213/219 [============================>.] - ETA: 0s - loss: 3.6750 - root_mean_squared_error: 1.9170- ETA: 0s - loss: 3.7927 - root_mean_squared_error: 1.INFO:tensorflow:Assets written to: model/assets\n",
      "219/219 [==============================] - 6s 26ms/step - loss: 3.7896 - root_mean_squared_error: 1.9467 - val_loss: 1.5677 - val_root_mean_squared_error: 1.2521\n",
      "Epoch 35/65\n",
      "219/219 [==============================] - 1s 4ms/step - loss: 3.4308 - root_mean_squared_error: 1.8523 - val_loss: 1.6550 - val_root_mean_squared_error: 1.2865\n",
      "Epoch 36/65\n",
      "219/219 [==============================] - 1s 5ms/step - loss: 3.1263 - root_mean_squared_error: 1.7681 - val_loss: 1.6507 - val_root_mean_squared_error: 1.2848\n",
      "Epoch 37/65\n",
      "219/219 [==============================] - 1s 5ms/step - loss: 2.8432 - root_mean_squared_error: 1.6862 - val_loss: 1.5777 - val_root_mean_squared_error: 1.2561\n",
      "Epoch 38/65\n",
      "214/219 [============================>.] - ETA: 0s - loss: 2.6358 - root_mean_squared_error: 1.6235INFO:tensorflow:Assets written to: model/assets\n",
      "219/219 [==============================] - 5s 23ms/step - loss: 2.6109 - root_mean_squared_error: 1.6158 - val_loss: 1.5671 - val_root_mean_squared_error: 1.2519\n",
      "Epoch 39/65\n",
      "219/219 [==============================] - 1s 5ms/step - loss: 2.4094 - root_mean_squared_error: 1.5522 - val_loss: 1.5969 - val_root_mean_squared_error: 1.2637\n",
      "Epoch 40/65\n",
      "219/219 [==============================] - 1s 5ms/step - loss: 2.2318 - root_mean_squared_error: 1.4939 - val_loss: 1.5958 - val_root_mean_squared_error: 1.2632\n",
      "Epoch 41/65\n",
      "219/219 [==============================] - 1s 5ms/step - loss: 2.0849 - root_mean_squared_error: 1.4439 - val_loss: 1.5721 - val_root_mean_squared_error: 1.2538\n",
      "Epoch 42/65\n",
      "219/219 [==============================] - 1s 5ms/step - loss: 1.9513 - root_mean_squared_error: 1.3969 - val_loss: 1.6185 - val_root_mean_squared_error: 1.2722\n",
      "Epoch 43/65\n",
      "219/219 [==============================] - 1s 5ms/step - loss: 1.8407 - root_mean_squared_error: 1.3567 - val_loss: 1.5975 - val_root_mean_squared_error: 1.2639\n",
      "Epoch 44/65\n",
      "219/219 [==============================] - 1s 5ms/step - loss: 1.7314 - root_mean_squared_error: 1.3158 - val_loss: 1.6037 - val_root_mean_squared_error: 1.2664\n",
      "Epoch 45/65\n",
      "215/219 [============================>.] - ETA: 0s - loss: 1.6609 - root_mean_squared_error: 1.2888INFO:tensorflow:Assets written to: model/assets\n",
      "219/219 [==============================] - 5s 23ms/step - loss: 1.6584 - root_mean_squared_error: 1.2878 - val_loss: 1.5658 - val_root_mean_squared_error: 1.2513\n",
      "Epoch 46/65\n",
      "219/219 [==============================] - 1s 4ms/step - loss: 1.5971 - root_mean_squared_error: 1.2638 - val_loss: 1.6443 - val_root_mean_squared_error: 1.2823\n",
      "Epoch 47/65\n",
      "219/219 [==============================] - 1s 4ms/step - loss: 1.5260 - root_mean_squared_error: 1.2353 - val_loss: 1.6060 - val_root_mean_squared_error: 1.2673\n",
      "Epoch 48/65\n",
      "219/219 [==============================] - 1s 5ms/step - loss: 1.4615 - root_mean_squared_error: 1.2089 - val_loss: 1.5787 - val_root_mean_squared_error: 1.2564\n",
      "Epoch 49/65\n",
      "219/219 [==============================] - 1s 5ms/step - loss: 1.4312 - root_mean_squared_error: 1.1963 - val_loss: 1.5985 - val_root_mean_squared_error: 1.2643\n",
      "Epoch 50/65\n",
      "219/219 [==============================] - 1s 4ms/step - loss: 1.3943 - root_mean_squared_error: 1.1808 - val_loss: 1.6283 - val_root_mean_squared_error: 1.2760\n",
      "Epoch 51/65\n",
      "219/219 [==============================] - 1s 4ms/step - loss: 1.3503 - root_mean_squared_error: 1.1620 - val_loss: 1.6135 - val_root_mean_squared_error: 1.2702\n",
      "Epoch 52/65\n",
      "219/219 [==============================] - 1s 5ms/step - loss: 1.3263 - root_mean_squared_error: 1.1517 - val_loss: 1.6746 - val_root_mean_squared_error: 1.2941\n",
      "Epoch 53/65\n",
      "219/219 [==============================] - 1s 5ms/step - loss: 1.3124 - root_mean_squared_error: 1.1456 - val_loss: 1.6066 - val_root_mean_squared_error: 1.2675\n",
      "Epoch 54/65\n",
      "219/219 [==============================] - 1s 4ms/step - loss: 1.2784 - root_mean_squared_error: 1.1307 - val_loss: 1.6279 - val_root_mean_squared_error: 1.2759\n",
      "Epoch 55/65\n",
      "219/219 [==============================] - 1s 5ms/step - loss: 1.2596 - root_mean_squared_error: 1.1223 - val_loss: 1.5664 - val_root_mean_squared_error: 1.2516\n",
      "Epoch 56/65\n",
      "219/219 [==============================] - 1s 5ms/step - loss: 1.2559 - root_mean_squared_error: 1.1207 - val_loss: 1.5673 - val_root_mean_squared_error: 1.2519\n",
      "Epoch 57/65\n",
      "219/219 [==============================] - 1s 5ms/step - loss: 1.2382 - root_mean_squared_error: 1.1128 - val_loss: 1.5915 - val_root_mean_squared_error: 1.2616\n",
      "Epoch 58/65\n",
      "219/219 [==============================] - 1s 5ms/step - loss: 1.2232 - root_mean_squared_error: 1.1060 - val_loss: 1.5956 - val_root_mean_squared_error: 1.2632\n",
      "Epoch 59/65\n",
      "219/219 [==============================] - 1s 5ms/step - loss: 1.2292 - root_mean_squared_error: 1.1087 - val_loss: 1.5668 - val_root_mean_squared_error: 1.2517\n",
      "Epoch 60/65\n",
      "219/219 [==============================] - 1s 4ms/step - loss: 1.2135 - root_mean_squared_error: 1.1016 - val_loss: 1.5730 - val_root_mean_squared_error: 1.2542\n",
      "Epoch 61/65\n",
      "219/219 [==============================] - 1s 4ms/step - loss: 1.1997 - root_mean_squared_error: 1.0953 - val_loss: 1.5780 - val_root_mean_squared_error: 1.2562\n",
      "Epoch 62/65\n",
      "219/219 [==============================] - 1s 4ms/step - loss: 1.1999 - root_mean_squared_error: 1.0954 - val_loss: 1.5873 - val_root_mean_squared_error: 1.2599\n",
      "Epoch 63/65\n",
      "219/219 [==============================] - 1s 4ms/step - loss: 1.1994 - root_mean_squared_error: 1.0952 - val_loss: 1.5946 - val_root_mean_squared_error: 1.2628\n",
      "Epoch 64/65\n",
      "219/219 [==============================] - 1s 4ms/step - loss: 1.1945 - root_mean_squared_error: 1.0929 - val_loss: 1.5702 - val_root_mean_squared_error: 1.2531\n",
      "Epoch 65/65\n",
      "219/219 [==============================] - 1s 4ms/step - loss: 1.1869 - root_mean_squared_error: 1.0894 - val_loss: 1.6705 - val_root_mean_squared_error: 1.2925\n"
     ]
    },
    {
     "data": {
      "text/plain": [
       "<tensorflow.python.keras.callbacks.History at 0x2a1383df430>"
      ]
     },
     "execution_count": 71,
     "metadata": {},
     "output_type": "execute_result"
    }
   ],
   "source": [
    "model.fit(x_train,y_train,validation_data=(x_val,y_val), epochs=65 , callbacks=[cp])"
   ]
  },
  {
   "cell_type": "code",
   "execution_count": 72,
   "id": "c040e84d",
   "metadata": {},
   "outputs": [],
   "source": [
    "from tensorflow.keras.models import load_model"
   ]
  },
  {
   "cell_type": "code",
   "execution_count": 73,
   "id": "c5e83569",
   "metadata": {},
   "outputs": [],
   "source": [
    "model = load_model('model/')"
   ]
  },
  {
   "cell_type": "code",
   "execution_count": null,
   "id": "d56a3a42",
   "metadata": {
    "scrolled": true
   },
   "outputs": [],
   "source": []
  },
  {
   "cell_type": "code",
   "execution_count": 74,
   "id": "bb619b9b",
   "metadata": {},
   "outputs": [],
   "source": [
    "tp = model.predict(x_train).flatten()"
   ]
  },
  {
   "cell_type": "code",
   "execution_count": 75,
   "id": "ddc85dc2",
   "metadata": {},
   "outputs": [],
   "source": [
    "train_p = pd.DataFrame({'actual' : y_train.flatten() , 'predicted' : tp})"
   ]
  },
  {
   "cell_type": "code",
   "execution_count": 76,
   "id": "f21c477e",
   "metadata": {},
   "outputs": [
    {
     "data": {
      "text/html": [
       "<div>\n",
       "<style scoped>\n",
       "    .dataframe tbody tr th:only-of-type {\n",
       "        vertical-align: middle;\n",
       "    }\n",
       "\n",
       "    .dataframe tbody tr th {\n",
       "        vertical-align: top;\n",
       "    }\n",
       "\n",
       "    .dataframe thead th {\n",
       "        text-align: right;\n",
       "    }\n",
       "</style>\n",
       "<table border=\"1\" class=\"dataframe\">\n",
       "  <thead>\n",
       "    <tr style=\"text-align: right;\">\n",
       "      <th></th>\n",
       "      <th>actual</th>\n",
       "      <th>predicted</th>\n",
       "    </tr>\n",
       "  </thead>\n",
       "  <tbody>\n",
       "    <tr>\n",
       "      <th>0</th>\n",
       "      <td>18.60</td>\n",
       "      <td>18.476376</td>\n",
       "    </tr>\n",
       "    <tr>\n",
       "      <th>1</th>\n",
       "      <td>18.60</td>\n",
       "      <td>18.440989</td>\n",
       "    </tr>\n",
       "    <tr>\n",
       "      <th>2</th>\n",
       "      <td>18.58</td>\n",
       "      <td>18.441572</td>\n",
       "    </tr>\n",
       "    <tr>\n",
       "      <th>3</th>\n",
       "      <td>18.65</td>\n",
       "      <td>18.424915</td>\n",
       "    </tr>\n",
       "    <tr>\n",
       "      <th>4</th>\n",
       "      <td>18.68</td>\n",
       "      <td>18.494576</td>\n",
       "    </tr>\n",
       "    <tr>\n",
       "      <th>...</th>\n",
       "      <td>...</td>\n",
       "      <td>...</td>\n",
       "    </tr>\n",
       "    <tr>\n",
       "      <th>6995</th>\n",
       "      <td>59.07</td>\n",
       "      <td>58.250996</td>\n",
       "    </tr>\n",
       "    <tr>\n",
       "      <th>6996</th>\n",
       "      <td>58.67</td>\n",
       "      <td>59.130375</td>\n",
       "    </tr>\n",
       "    <tr>\n",
       "      <th>6997</th>\n",
       "      <td>58.72</td>\n",
       "      <td>58.572777</td>\n",
       "    </tr>\n",
       "    <tr>\n",
       "      <th>6998</th>\n",
       "      <td>57.86</td>\n",
       "      <td>58.669346</td>\n",
       "    </tr>\n",
       "    <tr>\n",
       "      <th>6999</th>\n",
       "      <td>55.60</td>\n",
       "      <td>57.760620</td>\n",
       "    </tr>\n",
       "  </tbody>\n",
       "</table>\n",
       "<p>7000 rows × 2 columns</p>\n",
       "</div>"
      ],
      "text/plain": [
       "      actual  predicted\n",
       "0      18.60  18.476376\n",
       "1      18.60  18.440989\n",
       "2      18.58  18.441572\n",
       "3      18.65  18.424915\n",
       "4      18.68  18.494576\n",
       "...      ...        ...\n",
       "6995   59.07  58.250996\n",
       "6996   58.67  59.130375\n",
       "6997   58.72  58.572777\n",
       "6998   57.86  58.669346\n",
       "6999   55.60  57.760620\n",
       "\n",
       "[7000 rows x 2 columns]"
      ]
     },
     "execution_count": 76,
     "metadata": {},
     "output_type": "execute_result"
    }
   ],
   "source": [
    "train_p"
   ]
  },
  {
   "cell_type": "code",
   "execution_count": 77,
   "id": "b8b4a90e",
   "metadata": {},
   "outputs": [],
   "source": [
    "import matplotlib.pyplot as plt"
   ]
  },
  {
   "cell_type": "code",
   "execution_count": 78,
   "id": "679204cb",
   "metadata": {},
   "outputs": [
    {
     "data": {
      "text/plain": [
       "[<matplotlib.lines.Line2D at 0x2a138e86190>]"
      ]
     },
     "execution_count": 78,
     "metadata": {},
     "output_type": "execute_result"
    },
    {
     "data": {
      "image/png": "[encoded data removed]",
      "text/plain": [
       "<Figure size 432x288 with 1 Axes>"
      ]
     },
     "metadata": {
      "needs_background": "light"
     },
     "output_type": "display_data"
    }
   ],
   "source": [
    "plt.plot(train_p['actual'][:200])\n",
    "plt.plot(train_p['predicted'][:200])\n"
   ]
  },
  {
   "cell_type": "code",
   "execution_count": 79,
   "id": "c8597b1c",
   "metadata": {},
   "outputs": [],
   "source": [
    "vp = model.predict(x_val).flatten()"
   ]
  },
  {
   "cell_type": "code",
   "execution_count": 80,
   "id": "317b8c1b",
   "metadata": {},
   "outputs": [],
   "source": [
    "val_p = pd.DataFrame({'actual' : y_val.flatten() , 'predicted' : vp})"
   ]
  },
  {
   "cell_type": "code",
   "execution_count": 81,
   "id": "38a34653",
   "metadata": {},
   "outputs": [
    {
     "data": {
      "text/html": [
       "<div>\n",
       "<style scoped>\n",
       "    .dataframe tbody tr th:only-of-type {\n",
       "        vertical-align: middle;\n",
       "    }\n",
       "\n",
       "    .dataframe tbody tr th {\n",
       "        vertical-align: top;\n",
       "    }\n",
       "\n",
       "    .dataframe thead th {\n",
       "        text-align: right;\n",
       "    }\n",
       "</style>\n",
       "<table border=\"1\" class=\"dataframe\">\n",
       "  <thead>\n",
       "    <tr style=\"text-align: right;\">\n",
       "      <th></th>\n",
       "      <th>actual</th>\n",
       "      <th>predicted</th>\n",
       "    </tr>\n",
       "  </thead>\n",
       "  <tbody>\n",
       "    <tr>\n",
       "      <th>0</th>\n",
       "      <td>18.60</td>\n",
       "      <td>18.476376</td>\n",
       "    </tr>\n",
       "    <tr>\n",
       "      <th>1</th>\n",
       "      <td>18.60</td>\n",
       "      <td>18.440989</td>\n",
       "    </tr>\n",
       "    <tr>\n",
       "      <th>2</th>\n",
       "      <td>18.58</td>\n",
       "      <td>18.441572</td>\n",
       "    </tr>\n",
       "    <tr>\n",
       "      <th>3</th>\n",
       "      <td>18.65</td>\n",
       "      <td>18.424915</td>\n",
       "    </tr>\n",
       "    <tr>\n",
       "      <th>4</th>\n",
       "      <td>18.68</td>\n",
       "      <td>18.494576</td>\n",
       "    </tr>\n",
       "    <tr>\n",
       "      <th>...</th>\n",
       "      <td>...</td>\n",
       "      <td>...</td>\n",
       "    </tr>\n",
       "    <tr>\n",
       "      <th>6995</th>\n",
       "      <td>59.07</td>\n",
       "      <td>58.250996</td>\n",
       "    </tr>\n",
       "    <tr>\n",
       "      <th>6996</th>\n",
       "      <td>58.67</td>\n",
       "      <td>59.130375</td>\n",
       "    </tr>\n",
       "    <tr>\n",
       "      <th>6997</th>\n",
       "      <td>58.72</td>\n",
       "      <td>58.572777</td>\n",
       "    </tr>\n",
       "    <tr>\n",
       "      <th>6998</th>\n",
       "      <td>57.86</td>\n",
       "      <td>58.669346</td>\n",
       "    </tr>\n",
       "    <tr>\n",
       "      <th>6999</th>\n",
       "      <td>55.60</td>\n",
       "      <td>57.760620</td>\n",
       "    </tr>\n",
       "  </tbody>\n",
       "</table>\n",
       "<p>7000 rows × 2 columns</p>\n",
       "</div>"
      ],
      "text/plain": [
       "      actual  predicted\n",
       "0      18.60  18.476376\n",
       "1      18.60  18.440989\n",
       "2      18.58  18.441572\n",
       "3      18.65  18.424915\n",
       "4      18.68  18.494576\n",
       "...      ...        ...\n",
       "6995   59.07  58.250996\n",
       "6996   58.67  59.130375\n",
       "6997   58.72  58.572777\n",
       "6998   57.86  58.669346\n",
       "6999   55.60  57.760620\n",
       "\n",
       "[7000 rows x 2 columns]"
      ]
     },
     "execution_count": 81,
     "metadata": {},
     "output_type": "execute_result"
    }
   ],
   "source": [
    "train_p"
   ]
  },
  {
   "cell_type": "code",
   "execution_count": 82,
   "id": "bc568ad9",
   "metadata": {},
   "outputs": [
    {
     "data": {
      "text/plain": [
       "[<matplotlib.lines.Line2D at 0x2a143f9f400>]"
      ]
     },
     "execution_count": 82,
     "metadata": {},
     "output_type": "execute_result"
    },
    {
     "data": {
      "image/png": "[encoded data removed]",
      "text/plain": [
       "<Figure size 432x288 with 1 Axes>"
      ]
     },
     "metadata": {
      "needs_background": "light"
     },
     "output_type": "display_data"
    }
   ],
   "source": [
    "plt.plot(val_p['actual'][:200])\n",
    "plt.plot(val_p['predicted'][:200])"
   ]
  },
  {
   "cell_type": "code",
   "execution_count": 83,
   "id": "8e26b499",
   "metadata": {},
   "outputs": [],
   "source": [
    "tp = model.predict(x_test).flatten()"
   ]
  },
  {
   "cell_type": "code",
   "execution_count": 84,
   "id": "93afb874",
   "metadata": {},
   "outputs": [],
   "source": [
    "test_p = pd.DataFrame({'actual' : y_test.flatten() , 'predicted' : tp})"
   ]
  },
  {
   "cell_type": "code",
   "execution_count": 85,
   "id": "bd35afac",
   "metadata": {},
   "outputs": [
    {
     "data": {
      "text/html": [
       "<div>\n",
       "<style scoped>\n",
       "    .dataframe tbody tr th:only-of-type {\n",
       "        vertical-align: middle;\n",
       "    }\n",
       "\n",
       "    .dataframe tbody tr th {\n",
       "        vertical-align: top;\n",
       "    }\n",
       "\n",
       "    .dataframe thead th {\n",
       "        text-align: right;\n",
       "    }\n",
       "</style>\n",
       "<table border=\"1\" class=\"dataframe\">\n",
       "  <thead>\n",
       "    <tr style=\"text-align: right;\">\n",
       "      <th></th>\n",
       "      <th>actual</th>\n",
       "      <th>predicted</th>\n",
       "    </tr>\n",
       "  </thead>\n",
       "  <tbody>\n",
       "    <tr>\n",
       "      <th>0</th>\n",
       "      <td>53.15</td>\n",
       "      <td>53.248795</td>\n",
       "    </tr>\n",
       "    <tr>\n",
       "      <th>1</th>\n",
       "      <td>51.72</td>\n",
       "      <td>53.201744</td>\n",
       "    </tr>\n",
       "    <tr>\n",
       "      <th>2</th>\n",
       "      <td>54.15</td>\n",
       "      <td>51.780746</td>\n",
       "    </tr>\n",
       "    <tr>\n",
       "      <th>3</th>\n",
       "      <td>53.53</td>\n",
       "      <td>54.604195</td>\n",
       "    </tr>\n",
       "    <tr>\n",
       "      <th>4</th>\n",
       "      <td>54.56</td>\n",
       "      <td>53.565166</td>\n",
       "    </tr>\n",
       "    <tr>\n",
       "      <th>...</th>\n",
       "      <td>...</td>\n",
       "      <td>...</td>\n",
       "    </tr>\n",
       "    <tr>\n",
       "      <th>1044</th>\n",
       "      <td>55.38</td>\n",
       "      <td>54.264118</td>\n",
       "    </tr>\n",
       "    <tr>\n",
       "      <th>1045</th>\n",
       "      <td>55.66</td>\n",
       "      <td>55.636467</td>\n",
       "    </tr>\n",
       "    <tr>\n",
       "      <th>1046</th>\n",
       "      <td>55.68</td>\n",
       "      <td>55.731148</td>\n",
       "    </tr>\n",
       "    <tr>\n",
       "      <th>1047</th>\n",
       "      <td>55.22</td>\n",
       "      <td>55.678356</td>\n",
       "    </tr>\n",
       "    <tr>\n",
       "      <th>1048</th>\n",
       "      <td>55.44</td>\n",
       "      <td>55.218616</td>\n",
       "    </tr>\n",
       "  </tbody>\n",
       "</table>\n",
       "<p>1049 rows × 2 columns</p>\n",
       "</div>"
      ],
      "text/plain": [
       "      actual  predicted\n",
       "0      53.15  53.248795\n",
       "1      51.72  53.201744\n",
       "2      54.15  51.780746\n",
       "3      53.53  54.604195\n",
       "4      54.56  53.565166\n",
       "...      ...        ...\n",
       "1044   55.38  54.264118\n",
       "1045   55.66  55.636467\n",
       "1046   55.68  55.731148\n",
       "1047   55.22  55.678356\n",
       "1048   55.44  55.218616\n",
       "\n",
       "[1049 rows x 2 columns]"
      ]
     },
     "execution_count": 85,
     "metadata": {},
     "output_type": "execute_result"
    }
   ],
   "source": [
    "test_p\n"
   ]
  },
  {
   "cell_type": "code",
   "execution_count": 86,
   "id": "a8409336",
   "metadata": {},
   "outputs": [
    {
     "data": {
      "text/plain": [
       "[<matplotlib.lines.Line2D at 0x2a13c7e6850>]"
      ]
     },
     "execution_count": 86,
     "metadata": {},
     "output_type": "execute_result"
    },
    {
     "data": {
      "image/png": "[encoded data removed]",
      "text/plain": [
       "<Figure size 432x288 with 1 Axes>"
      ]
     },
     "metadata": {
      "needs_background": "light"
     },
     "output_type": "display_data"
    }
   ],
   "source": [
    "plt.plot(test_p['actual'][:200])\n",
    "plt.plot(test_p['predicted'][:200])"
   ]
  },
  {
   "cell_type": "code",
   "execution_count": null,
   "id": "35b6eaf2",
   "metadata": {},
   "outputs": [],
   "source": []
  },
  {
   "cell_type": "code",
   "execution_count": 92,
   "id": "417e9d78",
   "metadata": {},
   "outputs": [],
   "source": [
    "model.save(\"oil_model.h5\")"
   ]
  },
  {
   "cell_type": "code",
   "execution_count": null,
   "id": "97cd8532",
   "metadata": {},
   "outputs": [],
   "source": []
  },
  {
   "cell_type": "code",
   "execution_count": null,
   "id": "cbcf91fd",
   "metadata": {},
   "outputs": [],
   "source": []
  },
  {
   "cell_type": "code",
   "execution_count": null,
   "id": "169ef3dd",
   "metadata": {},
   "outputs": [],
   "source": []
  }
 ],
 "metadata": {
  "kernelspec": {
   "display_name": "Python 3 (ipykernel)",
   "language": "python",
   "name": "python3"
  },
  "language_info": {
   "codemirror_mode": {
    "name": "ipython",
    "version": 3
   },
   "file_extension": ".py",
   "mimetype": "text/x-python",
   "name": "python",
   "nbconvert_exporter": "python",
   "pygments_lexer": "ipython3",
   "version": "3.9.7"
  }
 },
 "nbformat": 4,
 "nbformat_minor": 5
}
